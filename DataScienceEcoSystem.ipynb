{
 "cells": [
  {
   "cell_type": "markdown",
   "source": [
    "<h1> Data Science Tools and Ecosystem </h1> "
   ],
   "metadata": {
    "collapsed": false
   },
   "id": "cee1e47206078826"
  },
  {
   "cell_type": "markdown",
   "source": [
    "<p> In this notebook, Data Science Tools and Ecosystem are summarized.</p>"
   ],
   "metadata": {
    "collapsed": false
   },
   "id": "369021649c29dbd6"
  },
  {
   "cell_type": "markdown",
   "source": [
    "Some of the popular languages that Data Scientists use are: "
   ],
   "metadata": {
    "collapsed": false
   },
   "id": "4c915743efd289ea"
  },
  {
   "cell_type": "markdown",
   "source": [
    "<ol> \n",
    "    <li> Python  </li>\n",
    "    <li> Java </li>\n",
    "    <li> R </li>\n",
    "    <li> Scala </li>\n",
    "</ol>"
   ],
   "metadata": {
    "collapsed": false
   },
   "id": "1a68bafbddb03193"
  },
  {
   "cell_type": "markdown",
   "source": [
    "<p>Some of the commonly used libraries used by Data Scientists include:</p>"
   ],
   "metadata": {
    "collapsed": false
   },
   "id": "bb9bf61f1ea75aa"
  },
  {
   "cell_type": "markdown",
   "source": [
    "<ol>\n",
    "    <li>NumPy</li>\n",
    "    <li>Pandas</li>\n",
    "    <li>Tensorflow</li>\n",
    "</ol>"
   ],
   "metadata": {
    "collapsed": false
   },
   "id": "1b651e3f616f2af"
  },
  {
   "cell_type": "markdown",
   "source": [
    "<table> \n",
    "    <thead> \n",
    "        <tr>  <td> Data Science Tools </td></tr>\n",
    "    </thead>\n",
    "<tbody> \n",
    "    <tr> \n",
    "        <td> Apache Hadoop </td> \n",
    "    </tr>\n",
    "        <tr> \n",
    "        <td> Apache Spark </td> \n",
    "    </tr>\n",
    "        <tr> \n",
    "        <td> Jupyter Notebook </td> \n",
    "    </tr>\n",
    "    \n",
    "</tbody>\n",
    "\n",
    "</table>"
   ],
   "metadata": {
    "collapsed": false
   },
   "id": "a6f4a3e9cedfeaca"
  },
  {
   "cell_type": "markdown",
   "source": [
    "<h3> Below are a few examples of evaluating arithmetic expressions in Python.</h3>"
   ],
   "metadata": {
    "collapsed": false
   },
   "id": "cb6e5a17332db96d"
  },
  {
   "cell_type": "code",
   "execution_count": 5,
   "outputs": [
    {
     "data": {
      "text/plain": "17"
     },
     "execution_count": 5,
     "metadata": {},
     "output_type": "execute_result"
    }
   ],
   "source": [
    "#This a simple arithmetic expression to multiply then add integers\n",
    "(3*4)+5"
   ],
   "metadata": {
    "collapsed": false,
    "ExecuteTime": {
     "end_time": "2024-03-30T20:06:14.191166700Z",
     "start_time": "2024-03-30T20:06:14.185889400Z"
    }
   },
   "id": "794611fb7c760517"
  },
  {
   "cell_type": "code",
   "execution_count": 6,
   "outputs": [
    {
     "data": {
      "text/plain": "3.3333333333333335"
     },
     "execution_count": 6,
     "metadata": {},
     "output_type": "execute_result"
    }
   ],
   "source": [
    "#This will convert 200 minutes to hours by diving by 60\n",
    "200/60"
   ],
   "metadata": {
    "collapsed": false,
    "ExecuteTime": {
     "end_time": "2024-03-30T20:06:14.670318300Z",
     "start_time": "2024-03-30T20:06:14.664031Z"
    }
   },
   "id": "d54ac5b58e551f4a"
  },
  {
   "cell_type": "markdown",
   "source": [
    "<h3> \n",
    " <b> Objectives:</b>\n",
    "</h3>"
   ],
   "metadata": {
    "collapsed": false
   },
   "id": "56464398163b187c"
  },
  {
   "cell_type": "markdown",
   "source": [
    "<ul>\n",
    "    <li>List popular languages for Data Science </li>\n",
    "    <li>List some tools used for Data Science </li>\n",
    "    <li>List some commonly used libraries in Data Science </li> \n",
    "</ul>"
   ],
   "metadata": {
    "collapsed": false
   },
   "id": "6d42779fdddaf142"
  },
  {
   "cell_type": "markdown",
   "source": [
    "<h2>Author</h2>\n",
    "<p> Trey Murray </p>"
   ],
   "metadata": {
    "collapsed": false
   },
   "id": "54a3810ee14a1295"
  },
  {
   "cell_type": "code",
   "execution_count": null,
   "outputs": [],
   "source": [],
   "metadata": {
    "collapsed": false
   },
   "id": "c5430980c64e2cf3"
  }
 ],
 "metadata": {
  "kernelspec": {
   "display_name": "Python 3",
   "language": "python",
   "name": "python3"
  },
  "language_info": {
   "codemirror_mode": {
    "name": "ipython",
    "version": 2
   },
   "file_extension": ".py",
   "mimetype": "text/x-python",
   "name": "python",
   "nbconvert_exporter": "python",
   "pygments_lexer": "ipython2",
   "version": "2.7.6"
  }
 },
 "nbformat": 4,
 "nbformat_minor": 5
}
